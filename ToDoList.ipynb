{
 "cells": [
  {
   "cell_type": "markdown",
   "metadata": {},
   "source": [
    "## Basic To Do List Functions\n",
    "Does not include dictionaries, tasks cannot be marked complete, etc."
   ]
  },
  {
   "cell_type": "code",
   "execution_count": 26,
   "metadata": {},
   "outputs": [],
   "source": [
    "# function to display all tasks\n",
    "def view_tasks(todo_list):\n",
    "    if not todo_list:\n",
    "        print('Your to-do list is empty.')\n",
    "    else:\n",
    "        print('To-do List Tasks:')\n",
    "        for task in todo_list:\n",
    "            print(f'- {task}')\n",
    "\n",
    "# add task function accepting user input\n",
    "def add_task(todo_list):\n",
    "    task = input('Add a task: ')\n",
    "    todo_list.append(task)\n",
    "    print(f\"Task added: {task}\")\n",
    "    \n",
    "# remove task accepting user input\n",
    "def remove_task(todo_list):\n",
    "    task = input('Remove a task: ')\n",
    "    if task in todo_list:\n",
    "        todo_list.remove(task)\n",
    "        print(f'Task removed: {task}')\n",
    "    else:\n",
    "        print(f'Task not found: {task}')\n",
    "\n",
    "# print a menu with options to add, remove, or view tasks\n",
    "def menu(todo_list):\n",
    "    while True:\n",
    "        try:\n",
    "            option = int(input('Choose an option:\\n(1) Add a task\\n(2) Remove a task\\n(3) View tasks\\n(4) Exit\\n'))\n",
    "            if option == 1:\n",
    "                add_task(todo_list)\n",
    "            elif option == 2:\n",
    "                remove_task(todo_list)\n",
    "            elif option == 3:\n",
    "                view_tasks(todo_list)\n",
    "            elif option == 4:\n",
    "                print('Exiting the application.')\n",
    "                return todo_list # exits the while loop and returns list\n",
    "            else:\n",
    "                print('Input not recognized, please enter a valid option.')\n",
    "        except ValueError:\n",
    "            print('Please enter a number.')"
   ]
  },
  {
   "cell_type": "markdown",
   "metadata": {},
   "source": [
    "## To Do with Dictionaries\n",
    "Implements a To Do list in the form of a list of dictionaries to allow marking completion and easy reference to task numbers\n",
    "- Technically these should take \"task_dicts\" or \"task_dict_lists\" since they take lists of dictionaries and not dictionaries as inputs"
   ]
  },
  {
   "cell_type": "code",
   "execution_count": 76,
   "metadata": {},
   "outputs": [],
   "source": [
    "# take a list and convert it to a dictionary with the task number and completion status\n",
    "def task_dict_converter(task_list):\n",
    "    tasks = []\n",
    "    for task in task_list:  # start=1 makes the counting start at 1\n",
    "        task_dict = {'name': task, 'completed': False}\n",
    "        tasks.append(task_dict)\n",
    "    return tasks\n",
    "\n",
    "# function to display all tasks\n",
    "def task_viewer(tasks):\n",
    "    if not tasks:  # Check if the tasks list is empty\n",
    "        print('Your to-do list is empty.')\n",
    "    else:\n",
    "        print('To-do List Tasks:')\n",
    "        for index, task in enumerate(tasks):  # Iterate through each task in the list\n",
    "            # Each 'task' is now a dictionary like {'id': int, 'name': 'Task Name', 'completed': True/False}\n",
    "            status = 'Completed' if task['completed'] else 'Incomplete'\n",
    "            print(f\"Task {index+1}: {task['name']} - {status}\")"
   ]
  },
  {
   "cell_type": "code",
   "execution_count": 98,
   "metadata": {},
   "outputs": [],
   "source": [
    "def task_remover(task_dict):\n",
    "    while True:\n",
    "        try: \n",
    "            task_viewer(task_dict)\n",
    "            option = int(input('Select a task number to remove, or 0 to return to menu: '))\n",
    "            if option == 0: \n",
    "                break\n",
    "            if 0 < option <= len(task_dict):\n",
    "                option -= 1\n",
    "                del task_dict[option]\n",
    "                print(f'Task {option+1} has been deleted.')\n",
    "            else:\n",
    "                print('Task not found. Please try again.')\n",
    "        except ValueError:\n",
    "            print('Please enter a valid number.')"
   ]
  },
  {
   "cell_type": "code",
   "execution_count": 104,
   "metadata": {},
   "outputs": [],
   "source": [
    "much_to_dict = []"
   ]
  },
  {
   "cell_type": "code",
   "execution_count": 91,
   "metadata": {},
   "outputs": [],
   "source": [
    "# allows user to change completion status of any item in task dictionary\n",
    "\n",
    "def status_changer(task_dict):\n",
    "    while True:\n",
    "        try: \n",
    "            task_viewer(task_dict)\n",
    "            option = int(input('Select a task number to change its status, or 0 to return to menu: '))\n",
    "            if option == 0: \n",
    "                break\n",
    "            if 0 < option <= len(task_dict):\n",
    "                # Toggle the task's completed status\n",
    "                option -= 1 # #converts user input to index\n",
    "                current_status = task_dict[option]['completed'] # this finds current status of user's queried task\n",
    "                task_dict[option]['completed'] = not current_status # this flips status\n",
    "                print(f\"Task '{task_dict[option]['name']}' status changed to {'completed' if task_dict[option]['completed'] else 'incomplete'}\")\n",
    "            else:\n",
    "                print('Task not found. Please try again.')\n",
    "        except ValueError:\n",
    "            print('Please enter a valid number.')"
   ]
  },
  {
   "cell_type": "code",
   "execution_count": 100,
   "metadata": {},
   "outputs": [],
   "source": [
    "# print a menu with options to add, remove, or view tasks\n",
    "def menu(task_dict):\n",
    "    while True:\n",
    "        try:\n",
    "            option = int(input('Choose an option:\\n(0) Exit \\n(1) Add a task\\n(2) Remove a task\\n(3) View tasks\\n(4) Change task status\\n'))\n",
    "            if option == 0:\n",
    "                print('Exiting the application.')\n",
    "                return todo_list # exits the while loop and returns list\n",
    "            elif option == 1:\n",
    "                task_adder(task_dict)\n",
    "            elif option == 2:\n",
    "                task_remover(task_dict)\n",
    "            elif option == 3:\n",
    "                task_viewer(task_dict)\n",
    "            elif option == 4:\n",
    "                status_changer(task_dict)\n",
    "            else:\n",
    "                print('Input not recognized, please enter a valid option.')\n",
    "        except ValueError:\n",
    "            print('Please enter a number.')"
   ]
  },
  {
   "cell_type": "code",
   "execution_count": 111,
   "metadata": {
    "scrolled": true
   },
   "outputs": [],
   "source": [
    "# adds an 'incomplete' task dictionary item to the list\n",
    "def task_adder(task_dict): \n",
    "    while True:  \n",
    "        task_viewer(task_dict)\n",
    "        option = input('Add a task, or input 0 to return to menu: ')\n",
    "        if option == '0':\n",
    "            break\n",
    "        else: \n",
    "            task_dict.append({'name': option, 'completed': False})\n",
    "            print(f\"Task added: {option}\")"
   ]
  },
  {
   "cell_type": "code",
   "execution_count": 112,
   "metadata": {},
   "outputs": [
    {
     "data": {
      "text/plain": [
       "[]"
      ]
     },
     "execution_count": 112,
     "metadata": {},
     "output_type": "execute_result"
    }
   ],
   "source": [
    "much_to_dict"
   ]
  },
  {
   "cell_type": "code",
   "execution_count": 114,
   "metadata": {
    "scrolled": true
   },
   "outputs": [
    {
     "name": "stdout",
     "output_type": "stream",
     "text": [
      "Choose an option:\n",
      "(0) Exit \n",
      "(1) Add a task\n",
      "(2) Remove a task\n",
      "(3) View tasks\n",
      "(4) Change task status\n",
      "1\n",
      "Your to-do list is empty.\n",
      "Add a task, or input 0 to return to menu: Run\n",
      "Task added: Run\n",
      "To-do List Tasks:\n",
      "Task 1: Run - Incomplete\n",
      "Add a task, or input 0 to return to menu: Joust\n",
      "Task added: Joust\n",
      "To-do List Tasks:\n",
      "Task 1: Run - Incomplete\n",
      "Task 2: Joust - Incomplete\n",
      "Add a task, or input 0 to return to menu: Fight\n",
      "Task added: Fight\n",
      "To-do List Tasks:\n",
      "Task 1: Run - Incomplete\n",
      "Task 2: Joust - Incomplete\n",
      "Task 3: Fight - Incomplete\n",
      "Add a task, or input 0 to return to menu: 0\n",
      "Choose an option:\n",
      "(0) Exit \n",
      "(1) Add a task\n",
      "(2) Remove a task\n",
      "(3) View tasks\n",
      "(4) Change task status\n",
      "2\n",
      "To-do List Tasks:\n",
      "Task 1: Run - Incomplete\n",
      "Task 2: Joust - Incomplete\n",
      "Task 3: Fight - Incomplete\n",
      "Select a task number to remove, or 0 to return to menu: 3\n",
      "Task 3 has been deleted.\n",
      "To-do List Tasks:\n",
      "Task 1: Run - Incomplete\n",
      "Task 2: Joust - Incomplete\n",
      "Select a task number to remove, or 0 to return to menu: 0\n",
      "Choose an option:\n",
      "(0) Exit \n",
      "(1) Add a task\n",
      "(2) Remove a task\n",
      "(3) View tasks\n",
      "(4) Change task status\n",
      "4\n",
      "To-do List Tasks:\n",
      "Task 1: Run - Incomplete\n",
      "Task 2: Joust - Incomplete\n",
      "Select a task number to change its status, or 0 to return to menu: 2\n",
      "Task 'Joust' status changed to completed\n",
      "To-do List Tasks:\n",
      "Task 1: Run - Incomplete\n",
      "Task 2: Joust - Completed\n",
      "Select a task number to change its status, or 0 to return to menu: 2\n",
      "Task 'Joust' status changed to incomplete\n",
      "To-do List Tasks:\n",
      "Task 1: Run - Incomplete\n",
      "Task 2: Joust - Incomplete\n",
      "Select a task number to change its status, or 0 to return to menu: 0\n",
      "Choose an option:\n",
      "(0) Exit \n",
      "(1) Add a task\n",
      "(2) Remove a task\n",
      "(3) View tasks\n",
      "(4) Change task status\n",
      "1\n",
      "To-do List Tasks:\n",
      "Task 1: Run - Incomplete\n",
      "Task 2: Joust - Incomplete\n",
      "Add a task, or input 0 to return to menu: Run faster\n",
      "Task added: Run faster\n",
      "To-do List Tasks:\n",
      "Task 1: Run - Incomplete\n",
      "Task 2: Joust - Incomplete\n",
      "Task 3: Run faster - Incomplete\n",
      "Add a task, or input 0 to return to menu: Cool beans\n",
      "Task added: Cool beans\n",
      "To-do List Tasks:\n",
      "Task 1: Run - Incomplete\n",
      "Task 2: Joust - Incomplete\n",
      "Task 3: Run faster - Incomplete\n",
      "Task 4: Cool beans - Incomplete\n",
      "Add a task, or input 0 to return to menu: 0\n",
      "Choose an option:\n",
      "(0) Exit \n",
      "(1) Add a task\n",
      "(2) Remove a task\n",
      "(3) View tasks\n",
      "(4) Change task status\n",
      "3\n",
      "To-do List Tasks:\n",
      "Task 1: Run - Incomplete\n",
      "Task 2: Joust - Incomplete\n",
      "Task 3: Run faster - Incomplete\n",
      "Task 4: Cool beans - Incomplete\n",
      "Choose an option:\n",
      "(0) Exit \n",
      "(1) Add a task\n",
      "(2) Remove a task\n",
      "(3) View tasks\n",
      "(4) Change task status\n",
      "0\n",
      "Exiting the application.\n"
     ]
    }
   ],
   "source": [
    "much_to_dict = menu(much_to_dict)"
   ]
  },
  {
   "cell_type": "markdown",
   "metadata": {},
   "source": [
    "## The following need to be updated for new dictionary format\n",
    "previous format  \n",
    "tasks = [  \n",
    "    {'name': 'Task 1', 'completed': False},   \n",
    "    {'name': 'Task 2', 'completed': False}  \n",
    "]   \n",
    "~~new format  \n",
    "tasks = [  \n",
    "    {'id': 1, 'name': 'Workout for 30 minutes', 'completed': False},  \n",
    "    {'id': 2, 'name': 'Eat a banana', 'completed': False}  \n",
    "]~~\n",
    "new format - no need for number as list index serves this function\n",
    "tasks = [\n",
    "    {'name': 'Workout for 30 minutes', 'completed': False},  \n",
    "    {'name': 'Eat a banana', 'completed': False}  \n",
    "]"
   ]
  },
  {
   "cell_type": "code",
   "execution_count": null,
   "metadata": {},
   "outputs": [],
   "source": []
  }
 ],
 "metadata": {
  "kernelspec": {
   "display_name": "Python 3",
   "language": "python",
   "name": "python3"
  },
  "language_info": {
   "codemirror_mode": {
    "name": "ipython",
    "version": 3
   },
   "file_extension": ".py",
   "mimetype": "text/x-python",
   "name": "python",
   "nbconvert_exporter": "python",
   "pygments_lexer": "ipython3",
   "version": "3.7.3"
  }
 },
 "nbformat": 4,
 "nbformat_minor": 2
}
