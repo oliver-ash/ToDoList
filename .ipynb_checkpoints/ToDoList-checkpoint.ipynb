{
 "cells": [
  {
   "cell_type": "markdown",
   "metadata": {},
   "source": [
    "## Basic To Do List Functions\n",
    "Does not include dictionaries, tasks cannot be marked complete, etc."
   ]
  },
  {
   "cell_type": "code",
   "execution_count": null,
   "metadata": {},
   "outputs": [],
   "source": [
    "# function to add a task to the list\n",
    "def add_task(task):\n",
    "    todo_list.append(task)\n",
    "    print(f\"Task added: {task}\")\n",
    "\n",
    "# function to display all tasks\n",
    "def view_tasks():\n",
    "    if not todo_list:\n",
    "        print('Your to-do list is empty.')\n",
    "    else:\n",
    "        print('To-do List Tasks:')\n",
    "        for task in todo_list:\n",
    "            print(f'- {task}')\n",
    "\n",
    "def remove_task(task):\n",
    "    if task in todo_list:\n",
    "        todo_list.remove(task)\n",
    "        print(f'Task removed: {task}')\n",
    "    else:\n",
    "        print(f'Task not found: {task}')\n",
    "\n",
    "# add task function accepting user input\n",
    "def add_task():\n",
    "    task = input('Add a task: ')\n",
    "    todo_list.append(task)\n",
    "    print(f\"Task added: {task}\")\n",
    "    \n",
    "# remove task accepting user input\n",
    "def remove_task():\n",
    "    task = input('Remove a task: ')\n",
    "    if task in todo_list:\n",
    "        todo_list.remove(task)\n",
    "        print(f'Task removed: {task}')\n",
    "    else:\n",
    "        print(f'Task not found: {task}')\n",
    "\n",
    "# print a menu with options to add, remove, or view tasks\n",
    "def menu():\n",
    "    while True:\n",
    "        try:\n",
    "            option = int(input('Choose an option:\\n(1) Add a task\\n(2) Remove a task\\n(3) View tasks\\n(4) Exit\\n'))\n",
    "            if option == 1:\n",
    "                add_task()\n",
    "            elif option == 2:\n",
    "                remove_task()\n",
    "            elif option == 3:\n",
    "                view_tasks()\n",
    "            elif option == 4:\n",
    "                print('Exiting the application.')\n",
    "                break # exits the while loop and ends the program\n",
    "            else:\n",
    "                print('Input not recognized, please enter a valid option.')\n",
    "        except ValueError:\n",
    "            print('Please enter a number.')"
   ]
  },
  {
   "cell_type": "markdown",
   "metadata": {},
   "source": [
    "## To Do with Dictionaries\n",
    "Implements a To Do list in the form of a list of dictionaries to allow marking completion and easy reference to task numbers"
   ]
  },
  {
   "cell_type": "code",
   "execution_count": 115,
   "metadata": {},
   "outputs": [],
   "source": [
    "# take a list and convert it to a dictionary with the task number and completion status\n",
    "def task_dict_converter(task_list):\n",
    "    tasks = []\n",
    "    for index, task in enumerate(task_list, start=1):  # start=1 makes the counting start at 1\n",
    "        task_dict = {'id': index, 'name': task, 'completed': False}\n",
    "        tasks.append(task_dict)\n",
    "    return tasks\n",
    "\n",
    "# function to display all tasks\n",
    "def view_tasks(tasks):\n",
    "    if not tasks:  # Check if the tasks list is empty\n",
    "        print('Your to-do list is empty.')\n",
    "    else:\n",
    "        print('To-do List Tasks:')\n",
    "        for task in tasks:  # Iterate through each task in the list\n",
    "            # Each 'task' is now a dictionary like {'id': int, 'name': 'Task Name', 'completed': True/False}\n",
    "            status = 'Completed' if task['completed'] else 'Incomplete'\n",
    "            print(f\"Task {task['id']}: {task['name']} - {status}\")"
   ]
  },
  {
   "cell_type": "markdown",
   "metadata": {},
   "source": [
    "## The following need to be updated for new dictionary format\n",
    "previous format\n",
    "tasks = [\n",
    "    {'name': 'Task 1', 'completed': False}, \n",
    "    {'name': 'Task 2', 'completed': False}\n",
    "]\n",
    "new format\n",
    "tasks = [\n",
    "    {'id': 1, 'name': 'Workout for 30 minutes', 'completed': False},\n",
    "    {'id': 2, 'name': 'Eat a banana', 'completed': False}\n",
    "]\n"
   ]
  },
  {
   "cell_type": "code",
   "execution_count": 58,
   "metadata": {},
   "outputs": [],
   "source": [
    "# allows user to change completion status of any item in task dictionary\n",
    "\n",
    "def status_changer(task_dict):\n",
    "    while True:\n",
    "        try: \n",
    "            view_tasks(task_dict)  # Make sure the function name matches exactly.\n",
    "            option = int(input('Select a task number to change its status, or 0 to exit: '))\n",
    "            if option == 0: \n",
    "                break\n",
    "            if option in task_dict:\n",
    "                # Toggle the task's completed status\n",
    "                current_status = task_dict[option]['completed'] # this finds current status of user's queried task\n",
    "                task_dict[option]['completed'] = not current_status # this flips status\n",
    "                print(f\"Task '{task_dict[option]['name']}' status changed to {'completed' if task_dict[option]['completed'] else 'incomplete'}\")\n",
    "            else:\n",
    "                print('Task not found. Please try again.')\n",
    "        except ValueError:\n",
    "            print('Please enter a valid number.')"
   ]
  },
  {
   "cell_type": "code",
   "execution_count": 60,
   "metadata": {},
   "outputs": [],
   "source": [
    "def task_remover(task_dict):\n",
    "    while True:\n",
    "        try: \n",
    "            view_tasks(task_dict)\n",
    "            option = int(input('Select a task number to remove, or 0 to exit: '))\n",
    "            if option == 0: \n",
    "                break\n",
    "            if option in task_dict:\n",
    "                del task_dict[option]\n",
    "                print(f'Task {option} has been deleted.')\n",
    "            else:\n",
    "                print('Task not found. Please try again.')\n",
    "        except ValueError:\n",
    "            print('Please enter a valid number.')"
   ]
  },
  {
   "cell_type": "code",
   "execution_count": null,
   "metadata": {},
   "outputs": [],
   "source": []
  }
 ],
 "metadata": {
  "kernelspec": {
   "display_name": "Python 3",
   "language": "python",
   "name": "python3"
  },
  "language_info": {
   "codemirror_mode": {
    "name": "ipython",
    "version": 3
   },
   "file_extension": ".py",
   "mimetype": "text/x-python",
   "name": "python",
   "nbconvert_exporter": "python",
   "pygments_lexer": "ipython3",
   "version": "3.7.3"
  }
 },
 "nbformat": 4,
 "nbformat_minor": 2
}
